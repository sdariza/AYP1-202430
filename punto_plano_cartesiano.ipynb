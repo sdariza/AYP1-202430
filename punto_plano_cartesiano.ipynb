{
  "nbformat": 4,
  "nbformat_minor": 0,
  "metadata": {
    "colab": {
      "provenance": [],
      "authorship_tag": "ABX9TyMF/e/ROm7/FAj7Ubm/0mtO",
      "include_colab_link": true
    },
    "kernelspec": {
      "name": "python3",
      "display_name": "Python 3"
    },
    "language_info": {
      "name": "python"
    }
  },
  "cells": [
    {
      "cell_type": "markdown",
      "metadata": {
        "id": "view-in-github",
        "colab_type": "text"
      },
      "source": [
        "<a href=\"https://colab.research.google.com/github/sdariza/AYP1-202430/blob/master/punto_plano_cartesiano.ipynb\" target=\"_parent\"><img src=\"https://colab.research.google.com/assets/colab-badge.svg\" alt=\"Open In Colab\"/></a>"
      ]
    },
    {
      "cell_type": "code",
      "execution_count": null,
      "metadata": {
        "colab": {
          "base_uri": "https://localhost:8080/"
        },
        "id": "rCM6VRCsZCru",
        "outputId": "f7fa1082-a16a-4ce6-ceee-5f592a1e09d2"
      },
      "outputs": [
        {
          "output_type": "stream",
          "name": "stdout",
          "text": [
            "Ingrese el valor en x: -54\n",
            "Ingrese el valor en y: 54\n",
            "El punto ingresado es: (-54.0, 54.0)\n",
            "El punto ingresado se encuentra en el segundo cuadrante\n"
          ]
        }
      ],
      "source": [
        "#INICIO\n",
        "x = float(input('Ingrese el valor en x: '))\n",
        "y = float(input('Ingrese el valor en y: '))\n",
        "print(f'El punto ingresado es: {x,y}')\n",
        "if x == 0 and y == 0:\n",
        "    print('El punto ingresado se encuentra en el origen')\n",
        "else:\n",
        "  if x >0 and y > 0:\n",
        "    print('El punto ingresado se encuentra en el primer cuadrante')\n",
        "  else:\n",
        "    if x < 0 and y > 0:\n",
        "      print('El punto ingresado se encuentra en el segundo cuadrante')\n",
        "    else:\n",
        "      if x < 0 and y < 0:\n",
        "        print('El punto ingresado se encuentra en el tercer cuadrante')\n",
        "      else:\n",
        "        if x > 0 and y < 0:\n",
        "          print('El punto ingresado se encuentra en el cuarto cuadrante')\n",
        "        else:\n",
        "          if x == 0 and y != 0:\n",
        "            print('El punto ingresado se encuentra sobre el eje y')\n",
        "          else:\n",
        "              print('El punto ingresado se encuentra sobre el eje x')\n",
        "#FIN"
      ]
    },
    {
      "cell_type": "markdown",
      "source": [
        "Con `elif`\n"
      ],
      "metadata": {
        "id": "_KpmzV1qalnd"
      }
    },
    {
      "cell_type": "code",
      "source": [
        "#INICIO\n",
        "x = float(input('Ingrese el valor en x: '))\n",
        "y = float(input('Ingrese el valor en y: '))\n",
        "print(f'El punto ingresado es: {x,y}')\n",
        "if x == 0 and y == 0:\n",
        "    print('El punto ingresado se encuentra en el origen')\n",
        "elif x >0 and y > 0:\n",
        "    print('El punto ingresado se encuentra en el primer cuadrante')\n",
        "elif x < 0 and y > 0:\n",
        "    print('El punto ingresado se encuentra en el segundo cuadrante')\n",
        "elif x < 0 and y < 0:\n",
        "    print('El punto ingresado se encuentra en el tercer cuadrante')\n",
        "elif x > 0 and y < 0:\n",
        "    print('El punto ingresado se encuentra en el cuarto cuadrante')\n",
        "elif x == 0 and y != 0:\n",
        "    print('El punto ingresado se encuentra sobre el eje y')\n",
        "else:\n",
        "  print('El punto ingresado se encuentra sobre el eje x')\n",
        "#FIN"
      ],
      "metadata": {
        "colab": {
          "base_uri": "https://localhost:8080/"
        },
        "id": "fHS7fWlyarK9",
        "outputId": "fba4751f-37cd-4026-dee1-44a9c14842aa"
      },
      "execution_count": null,
      "outputs": [
        {
          "output_type": "stream",
          "name": "stdout",
          "text": [
            "Ingrese el valor en x: 0\n",
            "Ingrese el valor en y: -154\n",
            "El punto ingresado es: (0.0, -154.0)\n",
            "El punto ingresado se encuentra sobre el eje y\n"
          ]
        }
      ]
    }
  ]
}