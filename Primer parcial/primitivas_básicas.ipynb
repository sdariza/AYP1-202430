{
  "nbformat": 4,
  "nbformat_minor": 0,
  "metadata": {
    "colab": {
      "provenance": [],
      "authorship_tag": "ABX9TyNznijmwQjOAEnWpHa7jpW/",
      "include_colab_link": true
    },
    "kernelspec": {
      "name": "python3",
      "display_name": "Python 3"
    },
    "language_info": {
      "name": "python"
    }
  },
  "cells": [
    {
      "cell_type": "markdown",
      "metadata": {
        "id": "view-in-github",
        "colab_type": "text"
      },
      "source": [
        "<a href=\"https://colab.research.google.com/github/sdariza/AYP1-202430/blob/master/primitivas_b%C3%A1sicas.ipynb\" target=\"_parent\"><img src=\"https://colab.research.google.com/assets/colab-badge.svg\" alt=\"Open In Colab\"/></a>"
      ]
    },
    {
      "cell_type": "markdown",
      "source": [
        "# Clase 12/08/2024"
      ],
      "metadata": {
        "id": "N0eqUqWcD81W"
      }
    },
    {
      "cell_type": "markdown",
      "source": [
        "La primitiva ESCRIBA en Python, es la función print()"
      ],
      "metadata": {
        "id": "-mpPWzEFFTs0"
      }
    },
    {
      "cell_type": "code",
      "execution_count": null,
      "metadata": {
        "colab": {
          "base_uri": "https://localhost:8080/"
        },
        "id": "EQsyJcdlBc9X",
        "outputId": "c80b5dc6-9837-4cd6-f060-e0cb64dc3912"
      },
      "outputs": [
        {
          "output_type": "stream",
          "name": "stdout",
          "text": [
            "hola mundo\n",
            "2+5= 7\n",
            "85-525= -440\n"
          ]
        }
      ],
      "source": [
        "print(\"hola mundo\")\n",
        "print(\"2+5=\", 2+5)\n",
        "print(\"85-525=\",85-525)"
      ]
    },
    {
      "cell_type": "markdown",
      "source": [
        "La primitiva LEA en python es la función input()"
      ],
      "metadata": {
        "id": "JTQz9qo2GVRd"
      }
    },
    {
      "cell_type": "code",
      "source": [
        "nombre = input(\"Ingrese el nombre de la persona: \")\n",
        "print(\"El nombre leído es:\",nombre)\n",
        "\n",
        "edad = input(\"Ingrese la edad: \")\n",
        "print(\"La edad ingresada es:\",edad)"
      ],
      "metadata": {
        "colab": {
          "base_uri": "https://localhost:8080/"
        },
        "id": "aaY5ou55HHBM",
        "outputId": "42e80edd-ad03-4af8-d212-f378eafb3b4d"
      },
      "execution_count": null,
      "outputs": [
        {
          "output_type": "stream",
          "name": "stdout",
          "text": [
            "Ingrese el nombre de la persona: Sergio Perez\n",
            "El nombre leído es: Sergio Perez\n",
            "Ingrese la edad: 656\n",
            "La edad ingresada es: 656\n"
          ]
        }
      ]
    },
    {
      "cell_type": "markdown",
      "source": [
        "# **Operadores aritméticos**\n",
        "\n",
        "![image.png](data:image/png;base64,iVBORw0KGgoAAAANSUhEUgAAAPIAAADBCAIAAAB65HrwAAAXK0lEQVR4Ae1d2ZXjOAzsuDqgjqejmUj2b4KZfQAJogAe1mWJkqGPNSnchSKtcUvar//iCAQeh8DXf//99+8px9fX11NKiTq2I/D19RW03g5fWM6JQNB6zr5EVrsQCFrvgi+M50QgaD1nXyKrXQgErXfBF8ZzIrCO1n9/v7++fv6sKeXPz1qL7J0Mv3//ron179+/W/wSsq20lUh8tHqT1sxeknxZZm2h6BYb7si23jdpjfVQTesW5vH82Fba8Xk81yN12f5uzRwo2+Tf328Zk2A9Ia6mdaK01ECNpIyupXbQ+t0Lqqb1wZhfS2u7RgXMRPX1S1Ts934eDPHedB5o36Z1c1fGZiSyJnqQi7Qb0lk+YHNMmnmLJKFlk7rwMgxHwPc1sS32IoRtbMCkzJlmwZ8fSh/cW4NSVCmTXaS6slDqRV1XqIp+/tBYTMalkWbSt9Gx5BjXCBCZ7EVI4Q8CT4bYjNwkJQazGabF2GoyeaxMScSqRmgmwBOriVVZWpNe8YFqmMcgQ7ss0EjWqWZPZzSWteQQWZUlkBbK5BKp+LG5YQUxHiHQoDWpZ+zNFkEQC944dox3U6cJi8N2npPkLtaL44Um1mdozXaSMmql+rKknyFJgLdmZWOqxnWeYM79CCkREyMtGADBptCKFec8Ah1aJzVuTeksNgfHjsduSprYNm23l1BM8OuG6MNpYk2G1ugOlfKyBeqg95JhLp+/iPQ/sBjQivxXBkmhOJQclpfWwki8xGcfgSGtM88yLaEZni8osuRkTWx/6XEZYHLQRvX5ShMdWFo3LUldnafx8gwlGGSaTnEs/WqA0DBMqhq9EklyOaEqioSPzyECr2gNuGszLC0cS9wUraRnqfkkMRu5dQuGLzSxQEtrpm+5cip6XFRhIARiDZ3rqJiWAcmaiyFrAHBmEZEY/NLQ+DFS1sQoJXwMhghUtK7/4SOoQzOwMa5Pfsp9K50zXeTOi/fcbZ1iuLEmFuhonUhSwpNm8lVILRoSuM7QqsqM9AzhjCFPVAFlWSR+xqWRsomCtca4i0BFa+k7Ccy/GA2VCW5pjN1+KBJK/c9nYCWqOZTxaJ2MNbG4itaVqQuTAv38SfRyJZdVkFOE5BuEUxfERaugsvxjIrhivPogBK2xwcvGhKb7gW+Z4aRaTVqPc7X8G+uG9B4IBK15r4wd8R50XZpl0DpovZQrN9ILWt+oWZHqUgSC1kuRCr0bIZBpTR9xBAJPQuDDfwm50SYUqS5EgJZn0HohWKF2FwSC1nfpVOS5AoGg9QqwQvUuCASt79KpyHMFAkHrFWCF6l0QCFrfpVOR5woEHk9rvXWuunVvBUyhei8Enk1r5nS5BRTeeXKvJkW2axHo05ooURix1u1l+vbGVLzx+7KUIvD5CDyf1q2nS3gXh5tRkf7p9mu9dklLm87yYVd6OU0ycHh+IyMiIkDtaP+V8Qm7dXkW3JKxeo2Bp7VyVHibKYuKdEer+vUrBUGO8dkIPJzWBKffeOUUbK7IVhy7B9jqKbQreA1gXD2saC3bEwngAA5cnfIwvr22BtVM7lSHpyBSGcc1j61UV0yG6i4wATCPHFI7HnwRYnrGK5aJdwit2UlchRiIZ5l8Eq2BzMRw2FlxD8bxaLcGb9xMP5+lwx+Zx6NpXf+bTriMOy1v4vq3mqW0Tq9BkLWRncj0I7k0UdF9Wk+U5IpU3LU105dqpEMvGORfjXKa1ES6mNb4j9H6xSArcg7VwxGgxravrQ8PdYpDR+tTYkaQ6RAIWk/XkkhoPwJB6/0YhofpEAhaT9eSSGg/AkHr/RiGh+kQyLSmjzgCgSchEL+ETLfbREL7EKDlGbTeh2FYT4dA0Hq6lkRC+xEIWu/HMDxMh0DQerqWREL7EQha78cwPEyHQNB6upZEQvsReDitzR18VKvcp7cfufAwMQKfQGu9CTqxXOdrG+NuWl1rHvpnIfBZtM7/b9HNvA5an8XLnXE+kdbmQiQ/1kI4mCsUuHxJqwAVUdec37xgdrYxzC0Cn0VrpqCymqlbmMizLCRF0fv7+y06eJpxrB8rE1ULc8zOReATaM07cfqPIR2RtDqRyFzxN3Wlc1paZpeJnI3P8xGoaE2dK4dp+vnJbYjoHvpCovEYeJzmpdY8yHu0CGXLTqk0aC2Kxc/9MNsA8+wm1I0H3+rEpFOiGVo6WatTssbFg7GX53yV+Qs8tqLEucMR+Cxa1y9BUE72oEWuOlqjiMz9vOcyzr8bgQ+jdWKecJlpKJP0qps0+/OjFytIZc9b3s1xK9d3Ur67ceF/hMCn0dry2r7qo/z2kV/mRNjQIbwlHJnIcJKJntS+fv6QFLVHyIfsjQhQRx58bf1G5ML1xAgErSduTqS2FYGg9Vbkwm5iBILWEzcnUtuKQNB6K3JhNzECmdb0EUcg8CQE4peQifedSG0LArQ8g9ZbkAubiREIWk/cnEhtKwJB663Ihd3ECAStJ25OpLYVgaD1VuTCbmIE+rSmm3jud9uOe4zgKOTxNr7Kp78RsFLIJ8DJUpOeq875rlsI3TF91ukGrQkbuj8z3Z1Jsxux29Ga+4wP1GL3qNc9GerV/3dGK+2Syarx3X/5NtilJs7Dq2nHLZ2G+29feXmAvEFrvP1yYdfnAaJD60ZXmQKbaL1169tqtxPdzyP1v3+fQOuf39/v6j7o1OxfeMJ8xB7DSDMZWTnZVjvnJqavEWjQWlb3Yy5Cfv7wzmwupTLFkGleCWVlTAM4ysM05esgvWKBfSU9DVuc1Fc1oF88UfNMOPVEoqYJhvBKdmWTZgaG83zWRQqV1P4rI8FmgXy9SK7XaF2E/PypnjJMTU20kYYyT6BipAiO8Ro5FYxSGusTNexTAng1OW+UKNUsGLyEZGCiy4JT0YJ4KjFlwWQxpnZ9E/dn0Kf1ft9XeOjQukdgbOdxtC7csdsyBoMxxUWLDmyYXtfEuXX7EknlFI2V8vVS7WRxk9MfQ2toHJACaNDc0YVuqAeecpNR6uiCXr1aco509aRhGe/++T+JiH0TCOETId99MUh8Enecfw6tuae0QWEHcezJgjIcGwfcc5TSGHbBHbTmfGRdmbc1+EyVeJpJUweSgyGZq6E6u/Hog2idGfaDvDPdHHS60lO6OU4YTStDEYxhiETyvMR5x8Swk3TMAjNS5jEsv65HTOk+40+ideK1abbpJhMn85VJoa+XrPWAEmary4ZZzDNRRSc4xri8K6ccKlvIvGNiMmEdILbxF7S+zxr9x7/DY77cWqGV/Cimc0MD86PZ9+9fspVNGVmYt2C+2k2uUErjzg9nXk2cm8C6lCRdDlS/hCSxNgmLJwxBONC8HEVLJH0gEMM7jqnm9g98d6ymovX5RSRanx83IiICQWtE44Bx0PoAEHe7CFrvhtA6CFpbPK6ZBa2vwT2ivhWBoPVb4Q3n1yCQaU0fcQQCT0Igfgm5ZkuJqG9DgJZn0Ppt8IbjaxAIWl+De0R9KwJB67fCG86vQSBofQ3uEfWtCLygNf1xwdxK8NZkDnDuHiM4wGO4uCECY1rf709mK2nN9wu9WLcvdboKt9sUbkjgdsojWnO74C6vtoe5zjpacwlUYzksh7uMhKpe6nQU6LSNBk5j+FYEqN2dH/i4WzdjNb0gAvHyNfD8FLIFqbEPZ4/7tPaMODuzbfFe0FpubY5ddBu8d7Hq0vqmu81rWud76/PXULn8pQE8SoKPaxUdamra7/mapnyTGQWr45ySZuchg7sw5hZ59mjtO3WLYl4+HZOqYGbm/VrrpBHy2koqdSa4Xxvk3/nhafly4FkJoyHuAu9d8uzQ+raAL9mt8VEvKNR+P5GgZi2oQ4fhLC+Zso2zDknRFUjBENzFcDcCbVrfF+4ltG7v1un6QvZVQkD4h2iwrX/hJiignTSnLwaJKMfnEQg0ad3qzRHBTvCxhNZUnnDWEEv3a4OA0eEa2EPLSWOzTpclsPHLasHL9xOQ+agQDVo3W3MXUF7TmsuTTRmvR/K/9Uhk3n7ndAQJgAl4z4QH4jrukhikYChu4/MIBGpaQ7uOCHCyjxe05uLwd2tPLCb07w+qAK3TS2RTSWAJw/xLiVKXZMpkmqkMPJ8M09PDVbS+N6ubf46hGssBpKLeIiO510xDw2qjk8TJW3HlnaBS7aqYNaI/nW5n1UcNwr8y3pzVntZnwRhx5kLA0drvO3MluyAbdxGywCJUHoiAo/XtKwxa376FRxQQtD4CxfAxGQJB68kaEukcgUCmNX3EEQg8CQH8JeSIpXKlj7i2vhL9aWLT8gxaT9OOSOQYBILWx+AYXqZCIGg9VTsimWMQCFofg2N4mQqBoPVU7YhkjkHgPFqf83f5d/4SwvfLlFtaLf5Q3UjNGo1m4HCkhrINJmhub/xaUsVLna7C/lRd5m76cFozrlSjHB1WOlTa026T1hOiHQDPbmj8BhOMuL6KESDsuaNAp/c0wmXdmFK7z/mBbz/ojfSrU263Zlz1TlCe4g3Plf3WE4dXt8HhBhNX7n4PzmFr+n5S8//w7YNoXT0X3oJ907nDCbHB4QYTV+t+D87hVdPGbk211e+yoLN8uG+PtAFmmd8Ii1H+v2U62zcUPd6tGzfua4r2JZpQV9ntSRdKUNOfPyjCMZUIrvBJmbr6nkPSVJnJAZ24uGjhGwNmqtapghUKBpIL42AiQplF2ygMoSDNmnWQ56oh8dFdhHAZ5dmkPBNcbJ4sLDUk6EvfUZhLLrJVOa5RHtOaU9IkOKuSPs+yEMv8+/uddfDsoDpUS5iUGA4irGzgsJ8nOmDfUpx5GtPao80gqFaBSmRsJYsRG0PBQQzrpBTMd+m4Q2twqUWwT5g20OLkUhNB0RsuTW6DXovW8lXit0rKUAnX6xckASXBsKoOZGOIwDVwJZ0FJzTs5IkeKhcqbKTBQghSzUFG5soISAd0YKhxMaVGDmQjlYFXsm+7A8/j4R5au0w4UEmnqqJIxgntlLZonSnBGQmK1ReicD+3Lym773stYVidqnF3DCN7HRs4lFQkw/SpNCuIQdxWeT6PfHWEp9EDjikFCUjnxcbrUGqiZ+mQiCp2kjLYo9seSGL2+pMSaVyEQG4QmtzptOqEiDn5SqqGr7ParjGgtUle+u6BtpEpZzqylpYwrG6gZiDCWAOHlQjtcKxx0+W8NrHjojoNHqDRGavkjlQKaKifMqEzyxAjfXAGQ5Fo/ljlojGlsJHWnJSWyOGgThh60aLMtimNaW1T9hm2I0LvwQCGVXUgo2EfIgwIRt6hF6EZjlUPcmYFPxcrtUhncI5jfeOVuWa31BenaU0l6oMTGg6gIHFZLrh7FrdrBntoveCdGJIp1+S+oNakuVj3Ba3tNsbdhj2h9GzB+0CwS646mopXDiEo5P0JplDXwGE3TzC330XoLK1lQ5pih3o81sxpKlWQ/q3eoLKL1rla8pEOhEG+5lny/fuXeuPkBd3jBq9obXntfnyD9HKPOfmyidhOJ8aShqvOqqWdJ+HjLz1t3V2HBsq+DxNXnRGhSVTKMFFV70UVeXUARnZPpRBylFAmJVnVolW5KmbWs8l32YRCuIuQZYaTajlaT5plpPVmBILWbwY43F+BQND6CtQj5psRCFq/GeBwfwUCQesrUI+Yb0Yg05o+4ggEnoRA/BLy5r0j3J+NAC3PoPXZqEe8NyMQtH4zwOH+CgSC1legHjHfjEDQ+s0Ah/srEAhaX4F6xHwzAq9pDXer8G0x5gaVN2e33v377wmZCARozVKkNpg41+BhCRQvdboKEMil8Hr6GbRm6KhUPvYtzG4bXoN9tMaGxm8wcVmDhyVQvNTpKNDp7Y2iPo9/4IMyXIEzTuvdmvI3d2XuA+yQog/CdIObDSau4v0enMPWdG+Pnk5rakLnTuMWnCedO4gaG9xsMHGY7PfgHL5j2qY1pZ6O9e+OeEeWy33a3brzBYfuWEWq9QsAheUb0fdVwTKPk9Dp1osvUN08EoCCEgxT5bFq2daQUGUmE/RBKuAcLXzxYKZqNmjxxgrwFAA8B1B0yB8AWrSNgtVxWxJptiCFTPOQGuouQjDFnIYAoRmgErlSSR3jzDOW1j5Ln4mT81Rqdc/R/P39zhIslfEpDeKZ2LOz8k2BRg20Bn4wZ/aZw7nWrPAAGcqw8RR6iTsIqlWhEllaSRu5XIiqysosgKaFWpLkIB1IS7o8qGltopgEMVlueonH4TUZG+LUWU1rTdInYpnAUgYuFULSpi0ARENTdl8GEoNjCdvzA1kbH7Y1o0zAA9ANz9K4gQarDIKiNwsXpAP2MITocLaRA0kFYxoDTGAI7nhY0bryjMY4xjpcPB/kxHlNawTCJtLKulRY4VBsiwp+pZbLmPId77yrleUjueVY4CENqzVVpaQ+F3rwC6oyA9LkegdBrTdSlJSxdk1SCxU9jgEKaCd498UgEWX53E5r2K9b2UiAkz8trbknBkNIp2oYyUopTSlbK5p9HfSUQqpVh9Y1oyBXHlbh1Gcl8rYyV5O0mBScjovqNHjA3TpxNrkjlVIO6qcs6AwdWUUVqlikD85gKBLNXyrkz4rWNlXXAs2AjCkLclveQ2A8XzOxtM77YIHY5kTVCLZZAgXCsDbLaHZ1bDvI3qiaiRfaaDgbmHkRmuFY9TyH/Fys1CKdwTmOe3ywOuIVooECDfsdQYaTHzAUt/JZ05q1xTfHKd+rlaPWuyPE8zWfjtblew+ZXZYhYyulZpx0ytKyGwz+yVh0GGmZEXQQ1fQAmppgsrGMH8SR2wGbHPySssIDrMmSYW40JFziDoKaohKA37+/P+VihHyozoK3r3AVJalkrFNyBRmq55KrDBq0LlRIoFEkbJWM2QN5VtaL0ws/K1pTLgksypSPRgUtiTMsVg5N47wopY70e5CAw72p58eCqVrutR4u29Iyaw4kcwbPepcI9dP9wOeAuNe0Set7lRDZ7kcgaL0fw/AwHQJB6+laEgntRyBovR/D8DAdAkHr6VoSCe1HINOaPuIIBJ6EQPwSsn97CA9TIUDLM2g9VUsimf0IBK33YxgepkMgaD1dSyKh/QgErfdjGB6mQyBoPV1LIqH9CBxKa7oPB+7uwewGIlTbPb7JPSF8xxLcF7W77nBgEOjSOt0qthB5UibVdOuhofBAZBI5aOJonaqgItPRWXQHBV/uhvNaCO5yr6EpCFC3Wz/wyY2Ti6EXA3LojAYiSeOwzwatNRtORKfDoKS7UHXoJ4RXINChNTU1P7q+cIMbcHcgOrzkIa39c06j6EHrETqzy5q05q9IonMZvCiD9Ghrm/IiBPdcR1aujyDgoyxgXIfmywcF4JZO999fgUGKkUsEHff+efKiByEGBKif/iIEyMzD0guwaw5Ju3DDagxEVnHnbMVuzVTSdHmqpTre+SVugMmkzL6MpdGjbSJHQKXyEBrVzgaa1U44PtW8QWtEHB9FuwVEI1ozY2TdNejD7BRGWRSqZ7gMMKQrdubpPSapLhVA0LtXUSMxFcZoGQI1rT3gNMemLfN7lVaD1nyBkf4DDHNU5HyxdBzLJgqejD/nS037FFUdipwWHLiHRXIVkreOS1D6i5A7F9SgNXBZK2sSDulpeTe+NkA7s1s3o3AS4J6VNMm+jWYfoxcIfCqt+RFs9yUEVDPXGJ6HFaRdWtsHvdFOY3ka+zlaxXghAitprd1Y6P9staW7tXzx67c9lQY8r9jFJ3RTJcbKrE/rtMuLHs3yGIA0gXmCeZwN4DPiraO1b+18GCynNeWeSUQg1H98KcJCfS4/KRt10ixK1UaPVoXgZFImqDF6X8d8cM+aETVp+bW1acaUJTlaT5ljJPV2BFbR2u1Kb09uQ4Cg9QbQnmeygtb0VQlftXNiEbSesy8nZ7WC1idnti1c0Hobbg+zClo/rKFRDiGQaU0fcQQCD0Lgf01h9PHCn1uIAAAAAElFTkSuQmCC)"
      ],
      "metadata": {
        "id": "6Qk_R66xKr0r"
      }
    },
    {
      "cell_type": "code",
      "source": [
        "print(\"Operador suma: 5+5=\", 5+5)\n",
        "print(\"Operador resta: 5-5=\", 5-5)\n",
        "print(\"Operador multiplicación: 5*5=\", 5*5)\n",
        "print(\"Operador división: 5/5=\", 5/5)\n",
        "print(\"Operador módulo: 5 % 5=\", 5%5)\n",
        "print(\"Operador división parte entera: 5 // 5=\", 5//5)\n",
        "print(\"Operador potencia: 5^3=\", 5**3)"
      ],
      "metadata": {
        "colab": {
          "base_uri": "https://localhost:8080/"
        },
        "id": "9omX5SwsK97D",
        "outputId": "d6074e97-45a5-492a-d625-2224cc4dc277"
      },
      "execution_count": null,
      "outputs": [
        {
          "output_type": "stream",
          "name": "stdout",
          "text": [
            "Operador suma: 5+5= 10\n",
            "Operador resta: 5-5= 0\n",
            "Operador multiplicación: 5*5= 25\n",
            "Operador división: 5/5= 1.0\n",
            "Operador módulo: 5 % 5= 0\n",
            "Operador división parte entera: 5 // 5= 1\n",
            "Operador potencia: 5^3= 125\n"
          ]
        }
      ]
    },
    {
      "cell_type": "markdown",
      "source": [
        "La función input siempre almacena los datos de entrada en str, es decir en cadena de texto. Para hacer las respectivas conversiones se necesita utilizar funciones basadas en el tipo de dato a almacenar."
      ],
      "metadata": {
        "id": "x96ZUHrlQv1l"
      }
    },
    {
      "cell_type": "code",
      "source": [
        "numero_entero = int(input(\"Ingrese un número entero\"))\n",
        "numero_decimal = float(input(\"Ingrese un número decimal\"))\n",
        "print(\"El número entero leído es:\", numero_entero)\n",
        "print(\"El número decimal leído es:\", numero_decimal)"
      ],
      "metadata": {
        "colab": {
          "base_uri": "https://localhost:8080/"
        },
        "id": "6gZYEAWgRVsd",
        "outputId": "7a24c515-85f9-404b-c9cc-4ddd8fc27b05"
      },
      "execution_count": null,
      "outputs": [
        {
          "output_type": "stream",
          "name": "stdout",
          "text": [
            "Ingrese un número entero5\n",
            "Ingrese un número decimal554.5545\n",
            "Ingrese un valor booleanoFalse\n",
            "El número entero leído es: 5\n",
            "El número decimal leído es: 554.5545\n",
            "El valor booleano escrito es: True\n"
          ]
        }
      ]
    }
  ]
}