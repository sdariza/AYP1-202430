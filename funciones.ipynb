{
  "nbformat": 4,
  "nbformat_minor": 0,
  "metadata": {
    "colab": {
      "provenance": [],
      "authorship_tag": "ABX9TyMgY1p8Q54PZOmlEVBz6+5I",
      "include_colab_link": true
    },
    "kernelspec": {
      "name": "python3",
      "display_name": "Python 3"
    },
    "language_info": {
      "name": "python"
    }
  },
  "cells": [
    {
      "cell_type": "markdown",
      "metadata": {
        "id": "view-in-github",
        "colab_type": "text"
      },
      "source": [
        "<a href=\"https://colab.research.google.com/github/sdariza/AYP1-202430/blob/master/funciones.ipynb\" target=\"_parent\"><img src=\"https://colab.research.google.com/assets/colab-badge.svg\" alt=\"Open In Colab\"/></a>"
      ]
    },
    {
      "cell_type": "markdown",
      "source": [
        "En python las funciones y/o métodos se realizan de la siguiente manera:\n",
        "\n",
        "\n",
        "\n",
        "```\n",
        "def nombre_identificador (params):\n",
        "  code ...\n",
        "  return something //\n",
        "```\n",
        "\n",
        " Para identificar el principal (main) se realiza la siguiente validación:\n",
        "\n",
        "\n",
        "\n",
        "```\n",
        "if __name__ == \"__main__\":\n",
        "  execute code and functions...\n",
        "```\n",
        "\n"
      ],
      "metadata": {
        "id": "935DYWNPAWWE"
      }
    },
    {
      "cell_type": "markdown",
      "source": [
        "Realice un algorimo para determinar si un número es par o impar"
      ],
      "metadata": {
        "id": "guK0rN1eBcr1"
      }
    },
    {
      "cell_type": "code",
      "execution_count": null,
      "metadata": {
        "colab": {
          "base_uri": "https://localhost:8080/"
        },
        "id": "h_-lw5aD-tF_",
        "outputId": "f88dfe22-4e0f-475f-fdc0-750392bd2cd3"
      },
      "outputs": [
        {
          "output_type": "stream",
          "name": "stdout",
          "text": [
            "Ingrese el número: 45457\n",
            "El número es impar\n"
          ]
        }
      ],
      "source": [
        "def par_impar(num):\n",
        "  return num % 2 == 0\n",
        "\n",
        "if __name__ == \"__main__\":\n",
        "  num = int(input(\"Ingrese el número: \"))\n",
        "  if par_impar(num):\n",
        "    print(\"El número es par\")\n",
        "  else:\n",
        "    print(\"El número es impar\")"
      ]
    },
    {
      "cell_type": "markdown",
      "source": [
        "Realice un algoritmo para determinar el mayor de 2 números leídos"
      ],
      "metadata": {
        "id": "M3n7doiJDa7o"
      }
    },
    {
      "cell_type": "code",
      "source": [
        "def mayor(a,b):\n",
        "  if a > b:\n",
        "    return a\n",
        "  return b\n",
        "\n",
        "if __name__ == \"__main__\":\n",
        "  num1 = int(input(\"Ingrese el número 1: \"))\n",
        "  num2 = int(input(\"Ingrese el número 2: \"))\n",
        "  num_mayor = mayor(num1, num2)\n",
        "  print(\"El mayor es: \", num_mayor)"
      ],
      "metadata": {
        "colab": {
          "base_uri": "https://localhost:8080/"
        },
        "id": "16oMak0SBq0z",
        "outputId": "bf10d020-373b-44b4-9774-11460c171cd3"
      },
      "execution_count": null,
      "outputs": [
        {
          "output_type": "stream",
          "name": "stdout",
          "text": [
            "Ingrese el número 1: 574\n",
            "Ingrese el número 1: 47\n",
            "El mayor es:  574\n"
          ]
        }
      ]
    },
    {
      "cell_type": "markdown",
      "source": [],
      "metadata": {
        "id": "5GeO0veaECs0"
      }
    }
  ]
}