{
  "nbformat": 4,
  "nbformat_minor": 0,
  "metadata": {
    "colab": {
      "provenance": [],
      "authorship_tag": "ABX9TyNlXtzQ4OvaEcERezOgipdE",
      "include_colab_link": true
    },
    "kernelspec": {
      "name": "python3",
      "display_name": "Python 3"
    },
    "language_info": {
      "name": "python"
    }
  },
  "cells": [
    {
      "cell_type": "markdown",
      "metadata": {
        "id": "view-in-github",
        "colab_type": "text"
      },
      "source": [
        "<a href=\"https://colab.research.google.com/github/sdariza/AYP1-202430/blob/master/intro_ciclos_repetitivos.ipynb\" target=\"_parent\"><img src=\"https://colab.research.google.com/assets/colab-badge.svg\" alt=\"Open In Colab\"/></a>"
      ]
    },
    {
      "cell_type": "markdown",
      "source": [
        "La estructura de un condicional repetitivo mientras que, es la siguiente:\n",
        "\n",
        "\n",
        "\n",
        "```\n",
        "while condition:\n",
        "  instruction1\n",
        "  instruction2\n",
        "\n",
        "```\n",
        "\n"
      ],
      "metadata": {
        "id": "GRUYrc_kP6lc"
      }
    },
    {
      "cell_type": "markdown",
      "source": [
        "Ejemplo 1:\n",
        "Realice un algoritmo que escriba en consola lo siguiente:\n",
        "\n",
        "\n",
        "\n",
        "```\n",
        "1\n",
        "3\n",
        "5\n",
        "7\n",
        "9\n",
        "```\n",
        "\n"
      ],
      "metadata": {
        "id": "ENO2C8phQrJ8"
      }
    },
    {
      "cell_type": "code",
      "execution_count": null,
      "metadata": {
        "colab": {
          "base_uri": "https://localhost:8080/"
        },
        "id": "RpS3303SPbTO",
        "outputId": "280d5a57-7e86-45ba-f00f-f3923d358791"
      },
      "outputs": [
        {
          "output_type": "stream",
          "name": "stdout",
          "text": [
            "1\n",
            "3\n",
            "5\n",
            "7\n",
            "9\n"
          ]
        }
      ],
      "source": [
        "print(1)\n",
        "print(3)\n",
        "print(5)\n",
        "print(7)\n",
        "print(9)"
      ]
    },
    {
      "cell_type": "markdown",
      "source": [
        "Realice un algoritmo para que escriba la siguiente secuencia hasta el elemento 20"
      ],
      "metadata": {
        "id": "gtPdtOnuRfDL"
      }
    },
    {
      "cell_type": "code",
      "source": [
        "print(1)\n",
        "print(3)\n",
        "print(5)\n",
        "print(7)\n",
        "print(9)\n",
        "print(11)\n",
        "print(13)\n",
        "print(15)\n",
        "print(17)\n",
        "print(19)\n",
        "print(21)"
      ],
      "metadata": {
        "colab": {
          "base_uri": "https://localhost:8080/"
        },
        "id": "qiENNPyQRkeK",
        "outputId": "4906a609-2d8d-4bcb-eac4-507add13c87a"
      },
      "execution_count": null,
      "outputs": [
        {
          "output_type": "stream",
          "name": "stdout",
          "text": [
            "1\n",
            "3\n",
            "5\n",
            "7\n",
            "9\n",
            "11\n",
            "13\n",
            "15\n",
            "17\n",
            "19\n",
            "21\n"
          ]
        }
      ]
    },
    {
      "cell_type": "markdown",
      "source": [
        "Realice ahora un algoritmo que escriba desde el primer elemento hasta el elemento número 20000"
      ],
      "metadata": {
        "id": "jvdeV17dSlDT"
      }
    },
    {
      "cell_type": "code",
      "source": [
        "num_ejecucion = 1\n",
        "elemento = 1\n",
        "while num_ejecucion <= 10:\n",
        "  print(elemento)\n",
        "  input(\"Presiona enter\")\n",
        "  elemento = elemento + 2\n",
        "  num_ejecucion = num_ejecucion + 1"
      ],
      "metadata": {
        "colab": {
          "base_uri": "https://localhost:8080/"
        },
        "id": "9ymU663WSrcC",
        "outputId": "5af0d1f0-07f1-434d-9930-545d3cd6e9d8"
      },
      "execution_count": null,
      "outputs": [
        {
          "name": "stdout",
          "output_type": "stream",
          "text": [
            "1\n",
            "Presiona enter\n",
            "3\n",
            "Presiona enter\n",
            "5\n",
            "Presiona enter\n",
            "7\n",
            "Presiona enter\n",
            "9\n",
            "Presiona enter\n",
            "11\n",
            "Presiona enter\n",
            "13\n",
            "Presiona enter\n",
            "15\n",
            "Presiona enter\n",
            "17\n",
            "Presiona enter\n",
            "19\n",
            "Presiona enter\n",
            "21\n",
            "Presiona enter\n"
          ]
        }
      ]
    },
    {
      "cell_type": "markdown",
      "source": [
        "En un centro de carros, solo se atienden 10 usuarios por día, a cada usuario se le pide conocer su nombre, edad, color del carro y modelo. Realice un algoritmo para conocer los datos del cliente con el carro más antiguo y más reciente."
      ],
      "metadata": {
        "id": "w-aTdFu3W4Ph"
      }
    },
    {
      "cell_type": "code",
      "source": [
        "#INICIO\n",
        "nombre = \"\"\n",
        "edad = 0\n",
        "color = \"\"\n",
        "modelo = 0\n",
        "\n",
        "\n",
        "nombre_menor = \"\"\n",
        "edad_menor = 0\n",
        "color_menor = \"\"\n",
        "modelo_menor = 999999\n",
        "\n",
        "nombre_mayor = \"\"\n",
        "edad_mayor = 0\n",
        "color_mayor = \"\"\n",
        "modelo_mayor = -99999\n",
        "\n",
        "\n",
        "num_cliente = 1\n",
        "\n",
        "while num_cliente <= 2:\n",
        "  print(f\"Atendiendo al cliente número: {num_cliente}\")\n",
        "  nombre = input(\"Ingrese su nombre: \")\n",
        "  edad = int(input(\"Ingrese su edad: \"))\n",
        "  color = input(\"Ingrese el color del carro: \")\n",
        "  modelo = int(input(\"Ingrese el año del modelo: \"))\n",
        "  if modelo < modelo_menor:\n",
        "    modelo_menor = modelo\n",
        "    nombre_menor = nombre\n",
        "    edad_menor = edad\n",
        "    color_menor = color\n",
        "  if modelo > modelo_mayor:\n",
        "    modelo_mayor = modelo\n",
        "    nombre_mayor = nombre\n",
        "    edad_mayor = edad\n",
        "    color_mayor = color\n",
        "  num_cliente = num_cliente + 1\n",
        "\n",
        "print(\"Los datos con el modelo menor es:\")\n",
        "print(nombre_menor,edad_menor,color_menor,modelo_menor)\n",
        "print(\"Los datos con el modelo mayor es:\")\n",
        "print(nombre_mayor,edad_mayor,color_mayor,modelo_mayor)\n",
        "\n",
        "\n",
        "\n"
      ],
      "metadata": {
        "colab": {
          "base_uri": "https://localhost:8080/"
        },
        "id": "5Et8SEaLXxFI",
        "outputId": "bb05a176-d723-4a01-9e41-bdacf75ff562"
      },
      "execution_count": null,
      "outputs": [
        {
          "output_type": "stream",
          "name": "stdout",
          "text": [
            "Atendiendo al cliente número: 1\n",
            "Ingrese su nombre: Marta\n",
            "Ingrese su edad: 15\n",
            "Ingrese el color del carro: Blanco\n",
            "Ingrese el año del modelo: 2025\n",
            "Atendiendo al cliente número: 2\n",
            "Ingrese su nombre: Juana\n",
            "Ingrese su edad: 30\n",
            "Ingrese el color del carro: Negro\n",
            "Ingrese el año del modelo: 2025\n",
            "Los datos con el modelo menor es:\n",
            "Marta 15 Blanco 2025\n",
            "Los datos con el modelo mayor es:\n",
            "Marta 15 Blanco 2025\n"
          ]
        }
      ]
    }
  ]
}